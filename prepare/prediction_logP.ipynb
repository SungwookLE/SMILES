{
 "cells": [
  {
   "cell_type": "markdown",
   "metadata": {},
   "source": [
    "# Using RDKit for cheminformatics - (2) Prediction of logP and SVM\n",
    "\n",
    "- 참고: `https://github.com/SeongokRyu/CH485---Artificial-Intelligence-and-Chemistry/blob/master/Practice%2002/prediction_logP.ipynb`  \n",
    "In this tutorial, we will use a support vector regression (SVR) to predict logP (partition coefficeint).  \n",
    "The input - structural feature of molecules is Morgan fingerprint and the eoutput is logP."
   ]
  },
  {
   "cell_type": "code",
   "execution_count": 1,
   "metadata": {},
   "outputs": [],
   "source": [
    "import numpy as np\n",
    "from rdkit import Chem\n",
    "from rdkit.Chem.Crippen import MolLogP\n",
    "from rdkit import Chem, DataStructs\n",
    "from rdkit.Chem import AllChem\n",
    "from sklearn.svm import SVR\n",
    "from sklearn.metrics import mean_squared_error, r2_score\n",
    "from scipy import stats\n",
    "import matplotlib.pyplot as plt"
   ]
  },
  {
   "cell_type": "markdown",
   "metadata": {},
   "source": [
    "I prepared the SMILES of molecules in ZINC dataset. You can download more data from ZINC database - http://zinc.docking.org/  \n",
    "\n",
    "Obtain the molecular fingerprint and logP values from RDKit.  \n",
    "You can see more detail usage of RDKit in a 'RDKit Cookbook' - https://www.rdkit.org/docs/Cookbook.html.  "
   ]
  },
  {
   "cell_type": "markdown",
   "metadata": {},
   "source": [
    "하는 중 .. (8/7)"
   ]
  }
 ],
 "metadata": {
  "kernelspec": {
   "display_name": "smils",
   "language": "python",
   "name": "python3"
  },
  "language_info": {
   "codemirror_mode": {
    "name": "ipython",
    "version": 3
   },
   "file_extension": ".py",
   "mimetype": "text/x-python",
   "name": "python",
   "nbconvert_exporter": "python",
   "pygments_lexer": "ipython3",
   "version": "3.10.12"
  },
  "orig_nbformat": 4
 },
 "nbformat": 4,
 "nbformat_minor": 2
}
